{
 "cells": [
  {
   "cell_type": "code",
   "execution_count": null,
   "metadata": {},
   "outputs": [],
   "source": [
    "from flask import render_template, redirect, url_for\n",
    "from app import app, db\n",
    "from app.forms import ExerciseForm\n",
    "from sqlalchemy.ext.automap import automap_base\n"
   ]
  },
  {
   "cell_type": "code",
   "execution_count": null,
   "metadata": {},
   "outputs": [],
   "source": [
    "\n",
    "# Use AutomapBase to reflect the database tables and generate classes\n",
    "Base = automap_base()\n",
    "Base.prepare(db.engine, reflect=True)\n",
    "Exercise = Base.classes.exercise\n",
    "Movement = Base.classes.movement\n"
   ]
  },
  {
   "cell_type": "code",
   "execution_count": null,
   "metadata": {},
   "outputs": [],
   "source": [
    "@app.route('/add-exercise', methods=['GET', 'POST'])\n",
    "def add_exercise():\n",
    "    form = ExerciseForm()\n",
    "    if form.validate_on_submit():\n",
    "        # Get the movement object from the database\n",
    "        movement = db.session.query(Movement).filter_by(name=form.movement.data).first()\n",
    "\n",
    "        # Create a new exercise object and add it to the database\n",
    "        exercise = Exercise(movement_id=movement.movement_id,\n",
    "                            number_of_sets=form.sets.data,\n",
    "                            number_of_reps=form.reps.data,\n",
    "                            weight=form.weight.data,\n",
    "                            time=form.time.data)\n",
    "        db.session.add(exercise)\n",
    "        db.session.commit()\n",
    "\n",
    "        return redirect(url_for('index'))\n",
    "\n",
    "    return render_template('add-exercise.html', form=form)"
   ]
  }
 ],
 "metadata": {
  "kernelspec": {
   "display_name": "Python 3",
   "language": "python",
   "name": "python3"
  },
  "language_info": {
   "name": "python",
   "version": "3.9.6 (default, Oct 18 2022, 12:41:40) \n[Clang 14.0.0 (clang-1400.0.29.202)]"
  },
  "orig_nbformat": 4,
  "vscode": {
   "interpreter": {
    "hash": "31f2aee4e71d21fbe5cf8b01ff0e069b9275f58929596ceb00d14d90e3e16cd6"
   }
  }
 },
 "nbformat": 4,
 "nbformat_minor": 2
}
